{
 "cells": [
  {
   "cell_type": "markdown",
   "metadata": {},
   "source": [
    "### 1. Add the current date to the text file today.txt as a string."
   ]
  },
  {
   "cell_type": "code",
   "execution_count": 1,
   "metadata": {},
   "outputs": [
    {
     "name": "stdout",
     "output_type": "stream",
     "text": [
      "Today date : 2021 09 26\n"
     ]
    }
   ],
   "source": [
    "from datetime import date, datetime, time\n",
    "import os\n",
    "\n",
    "today = datetime.today()\n",
    "tday = today.strftime('%Y %m %d')\n",
    "print('Today date : {}'.format(tday))\n",
    "\n",
    "f=open('today.txt','w+')\n",
    "f.write(tday)\n",
    "f.close()"
   ]
  },
  {
   "cell_type": "markdown",
   "metadata": {},
   "source": [
    "### 2. Read the text file today.txt into the string today_string"
   ]
  },
  {
   "cell_type": "code",
   "execution_count": 3,
   "metadata": {},
   "outputs": [
    {
     "name": "stdout",
     "output_type": "stream",
     "text": [
      "2021 09 26\n"
     ]
    }
   ],
   "source": [
    "f = open('today.txt','r')\n",
    "t_day = f.read()\n",
    "print(t_day)\n",
    "f.close()"
   ]
  },
  {
   "cell_type": "markdown",
   "metadata": {},
   "source": [
    "### 3. Parse the date from today_string."
   ]
  },
  {
   "cell_type": "code",
   "execution_count": 4,
   "metadata": {},
   "outputs": [
    {
     "name": "stdout",
     "output_type": "stream",
     "text": [
      "Parse the data from today string:2021-09-26\n",
      "\n"
     ]
    }
   ],
   "source": [
    "print(\"Parse the data from today string:{}\\n\".format(datetime.date(datetime.strptime(t_day,'%Y %m %d'))))"
   ]
  },
  {
   "cell_type": "markdown",
   "metadata": {},
   "source": [
    "### 4. List the files in your current directory"
   ]
  },
  {
   "cell_type": "code",
   "execution_count": 5,
   "metadata": {},
   "outputs": [
    {
     "name": "stdout",
     "output_type": "stream",
     "text": [
      "C:\\Users\\Asus-2020\\Downloads\\.ipynb_checkpoints\n",
      "C:\\Users\\Asus-2020\\Downloads\\0-573940861_20210430_010125_0000.pdf\n",
      "C:\\Users\\Asus-2020\\Downloads\\001 (1).jpg\n",
      "C:\\Users\\Asus-2020\\Downloads\\001.jpg\n",
      "C:\\Users\\Asus-2020\\Downloads\\1.My Python Scripts (1).ipynb\n",
      "C:\\Users\\Asus-2020\\Downloads\\1.Simple Linear Regression.ipynb\n",
      "C:\\Users\\Asus-2020\\Downloads\\1.Tokenization (1).ipynb\n",
      "C:\\Users\\Asus-2020\\Downloads\\1.Tokenization-nltk (1).ipynb\n",
      "C:\\Users\\Asus-2020\\Downloads\\2.Function (1).ipynb\n",
      "C:\\Users\\Asus-2020\\Downloads\\2.Function.ipynb\n",
      "C:\\Users\\Asus-2020\\Downloads\\2.Logistic Regression.ipynb\n",
      "C:\\Users\\Asus-2020\\Downloads\\2.Stemming-nltk (1).ipynb\n",
      "C:\\Users\\Asus-2020\\Downloads\\3.Admission Prediction - LinearRegression.ipynb\n",
      "C:\\Users\\Asus-2020\\Downloads\\3.Lemmatization-nltk (1).ipynb\n",
      "C:\\Users\\Asus-2020\\Downloads\\4.Bag of words - nltk (1).ipynb\n",
      "C:\\Users\\Asus-2020\\Downloads\\4.Logging .ipynb\n",
      "C:\\Users\\Asus-2020\\Downloads\\5.Exception Handling (1).ipynb\n",
      "C:\\Users\\Asus-2020\\Downloads\\5.Exception Handling.ipynb\n",
      "C:\\Users\\Asus-2020\\Downloads\\5.TF-IDF - nltk (1).ipynb\n",
      "C:\\Users\\Asus-2020\\Downloads\\6.Class, Object and OOPS.ipynb\n",
      "C:\\Users\\Asus-2020\\Downloads\\6.Word2Vec - nltk (1).ipynb\n",
      "C:\\Users\\Asus-2020\\Downloads\\7.Text Processing - Nltk (1).ipynb\n",
      "C:\\Users\\Asus-2020\\Downloads\\Admission_Prediction.csv\n",
      "C:\\Users\\Asus-2020\\Downloads\\Advertising.csv\n",
      "C:\\Users\\Asus-2020\\Downloads\\AlbumArtSmall.jpg\n",
      "C:\\Users\\Asus-2020\\Downloads\\AlbumArt_{B5020207-474E-4720-1EBE-7D12D351D300}_Large.jpg\n",
      "C:\\Users\\Asus-2020\\Downloads\\AlbumArt_{B5020207-474E-4720-1EBE-7D12D351D300}_Small.jpg\n",
      "C:\\Users\\Asus-2020\\Downloads\\AlbumArt_{B5020207-474E-4720-4CCD-2E00C6754900}_Large.jpg\n",
      "C:\\Users\\Asus-2020\\Downloads\\AlbumArt_{B5020207-474E-4720-4CCD-2E00C6754900}_Small.jpg\n",
      "C:\\Users\\Asus-2020\\Downloads\\AlbumArt_{B5020207-474E-4720-C8E8-FF3E86818300}_Large.jpg\n",
      "C:\\Users\\Asus-2020\\Downloads\\AlbumArt_{B5020207-474E-4720-C8E8-FF3E86818300}_Small.jpg\n",
      "C:\\Users\\Asus-2020\\Downloads\\Amar ML\n",
      "C:\\Users\\Asus-2020\\Downloads\\Amarnath D_ Resume (1).pdf\n",
      "C:\\Users\\Asus-2020\\Downloads\\Amarnath D_ Resume (2).pdf\n",
      "C:\\Users\\Asus-2020\\Downloads\\Amarnath D_ Resume-converted.docx\n",
      "C:\\Users\\Asus-2020\\Downloads\\Amarnath D_ Resume.pdf\n",
      "C:\\Users\\Asus-2020\\Downloads\\AMARNATH-D_Old_ Resume.docx\n",
      "C:\\Users\\Asus-2020\\Downloads\\APJ.jpg\n",
      "C:\\Users\\Asus-2020\\Downloads\\APJ1.jpg\n",
      "C:\\Users\\Asus-2020\\Downloads\\Assignment_18.py\n",
      "C:\\Users\\Asus-2020\\Downloads\\Assignment_21 .ipynb\n",
      "C:\\Users\\Asus-2020\\Downloads\\Assignment_21.ipynb\n",
      "C:\\Users\\Asus-2020\\Downloads\\AWS Deployment steps.pdf\n",
      "C:\\Users\\Asus-2020\\Downloads\\Azure Deployment steps.pdf\n",
      "C:\\Users\\Asus-2020\\Downloads\\B9ECED6F.ASUSPCAssistant_qmba6cd70vzyy!App\n",
      "C:\\Users\\Asus-2020\\Downloads\\BrandMeasureNew\n",
      "C:\\Users\\Asus-2020\\Downloads\\BrandMeasureProject-20210208T080721Z-001.zip\n",
      "C:\\Users\\Asus-2020\\Downloads\\car.jpg\n",
      "C:\\Users\\Asus-2020\\Downloads\\casandra homework .7z\n",
      "C:\\Users\\Asus-2020\\Downloads\\Convocation Fee.JPG\n",
      "C:\\Users\\Asus-2020\\Downloads\\Convocation Payment-Aug26th2021.JPG\n",
      "C:\\Users\\Asus-2020\\Downloads\\Copy files\n",
      "C:\\Users\\Asus-2020\\Downloads\\Copy files.zip\n",
      "C:\\Users\\Asus-2020\\Downloads\\CUB-estmt-Apr2019-434125.html\n",
      "C:\\Users\\Asus-2020\\Downloads\\CUB-estmt-Apr2019.pdf\n",
      "C:\\Users\\Asus-2020\\Downloads\\CUB-estmt-Aug2019-426308.html\n",
      "C:\\Users\\Asus-2020\\Downloads\\CUB-estmt-Aug2019.pdf\n",
      "C:\\Users\\Asus-2020\\Downloads\\CUB-estmt-Jul2019-431077 (1).html\n",
      "C:\\Users\\Asus-2020\\Downloads\\CUB-estmt-Jul2019-431077.html\n",
      "C:\\Users\\Asus-2020\\Downloads\\CUB-estmt-Jul2019.pdf\n",
      "C:\\Users\\Asus-2020\\Downloads\\CUB-estmt-Jun2019-429585.html\n",
      "C:\\Users\\Asus-2020\\Downloads\\CUB-estmt-Jun2019.pdf\n",
      "C:\\Users\\Asus-2020\\Downloads\\CUB-estmt-Mar2019-436644.html\n",
      "C:\\Users\\Asus-2020\\Downloads\\CUB-estmt-Mar2019.pdf\n",
      "C:\\Users\\Asus-2020\\Downloads\\CUB-estmt-Mar2021-400807.html\n",
      "C:\\Users\\Asus-2020\\Downloads\\CUB-estmt-May2019-431496 (1).html\n",
      "C:\\Users\\Asus-2020\\Downloads\\CUB-estmt-May2019-431496.html\n",
      "C:\\Users\\Asus-2020\\Downloads\\CUB-estmt-May2019.pdf\n",
      "C:\\Users\\Asus-2020\\Downloads\\CUB_Cheque.jpg\n",
      "C:\\Users\\Asus-2020\\Downloads\\data\n",
      "C:\\Users\\Asus-2020\\Downloads\\dataAugmentation\n",
      "C:\\Users\\Asus-2020\\Downloads\\dataAugmentation.zip\n",
      "C:\\Users\\Asus-2020\\Downloads\\Decision tree partial (1).ipynb\n",
      "C:\\Users\\Asus-2020\\Downloads\\Decision tree partial.ipynb\n",
      "C:\\Users\\Asus-2020\\Downloads\\desktop.ini\n",
      "C:\\Users\\Asus-2020\\Downloads\\DL1\n",
      "C:\\Users\\Asus-2020\\Downloads\\DL1.7z\n",
      "C:\\Users\\Asus-2020\\Downloads\\DL_Tensor_Flow\n",
      "C:\\Users\\Asus-2020\\Downloads\\DL_Tensor_Flow.7z\n",
      "C:\\Users\\Asus-2020\\Downloads\\DSC_3025.JPG\n",
      "C:\\Users\\Asus-2020\\Downloads\\DSC_3027.JPG\n",
      "C:\\Users\\Asus-2020\\Downloads\\DSC_3028.JPG\n",
      "C:\\Users\\Asus-2020\\Downloads\\DSC_3035.JPG\n",
      "C:\\Users\\Asus-2020\\Downloads\\DSC_3036.JPG\n",
      "C:\\Users\\Asus-2020\\Downloads\\DSC_3037.JPG\n",
      "C:\\Users\\Asus-2020\\Downloads\\DSC_3043 (1).JPG\n",
      "C:\\Users\\Asus-2020\\Downloads\\DSC_3043.JPG\n",
      "C:\\Users\\Asus-2020\\Downloads\\DSC_3045.JPG\n",
      "C:\\Users\\Asus-2020\\Downloads\\dt_en_meta.dot\n",
      "C:\\Users\\Asus-2020\\Downloads\\EasyOCR.ipynb\n",
      "C:\\Users\\Asus-2020\\Downloads\\EasyOCR_Extract_the_Number_Plate.ipynb\n",
      "C:\\Users\\Asus-2020\\Downloads\\Eg.csv\n",
      "C:\\Users\\Asus-2020\\Downloads\\en_core_web_sm-2.2.0.tar.gz\n",
      "C:\\Users\\Asus-2020\\Downloads\\Epic Pen Setup v3.9.117.0 (1).exe\n",
      "C:\\Users\\Asus-2020\\Downloads\\Epic Pen Setup v3.9.117.0.exe\n",
      "C:\\Users\\Asus-2020\\Downloads\\FaceRecogAcademyV2.zip\n",
      "C:\\Users\\Asus-2020\\Downloads\\FileAutomation\n",
      "C:\\Users\\Asus-2020\\Downloads\\FileAutomation.zip\n",
      "C:\\Users\\Asus-2020\\Downloads\\flask_demo\n",
      "C:\\Users\\Asus-2020\\Downloads\\flask_demo.7z\n",
      "C:\\Users\\Asus-2020\\Downloads\\FlipkratScrappingProject (1).zip\n",
      "C:\\Users\\Asus-2020\\Downloads\\Folder.jpg\n",
      "C:\\Users\\Asus-2020\\Downloads\\forest_cover_Classification.zip\n",
      "C:\\Users\\Asus-2020\\Downloads\\glass.data\n",
      "C:\\Users\\Asus-2020\\Downloads\\Google Cloud Platform deployment steps.pdf\n",
      "C:\\Users\\Asus-2020\\Downloads\\GrammarlySetup.exe\n",
      "C:\\Users\\Asus-2020\\Downloads\\Hall ticket.pdf\n",
      "C:\\Users\\Asus-2020\\Downloads\\hello_world.7z\n",
      "C:\\Users\\Asus-2020\\Downloads\\Heroku Deployment steps.pdf\n",
      "C:\\Users\\Asus-2020\\Downloads\\HuionTablet_WinDriver_v15.3.19.174\n",
      "C:\\Users\\Asus-2020\\Downloads\\HuionTablet_WinDriver_v15.3.19.174.zip\n",
      "C:\\Users\\Asus-2020\\Downloads\\ineuron_mxnet.zip\n",
      "C:\\Users\\Asus-2020\\Downloads\\Installing CUDA Toolkit and cuDNN for Deep Learning.docx\n",
      "C:\\Users\\Asus-2020\\Downloads\\Installing CUDA Toolkit and cuDNN for Deep Learning.pdf\n",
      "C:\\Users\\Asus-2020\\Downloads\\InsuranceFraudDetection-master\n",
      "C:\\Users\\Asus-2020\\Downloads\\InsuranceFraudDetection-master.zip\n",
      "C:\\Users\\Asus-2020\\Downloads\\Introduction to MySQL (4).docx\n",
      "C:\\Users\\Asus-2020\\Downloads\\Learn Complete MySQL Tutorial  In Tamil - 2021 _ MySQL Database in Tamil _ Part-1_ தமிழ்.mp4\n",
      "C:\\Users\\Asus-2020\\Downloads\\Learn Complete MySQL Tutorial  In Tamil - 2021 _ MySQL Database in Tamil _ Part-2_ தமிழ்.mp4\n",
      "C:\\Users\\Asus-2020\\Downloads\\Logistics regression implementation.ipynb\n",
      "C:\\Users\\Asus-2020\\Downloads\\Machine Learning Module 2\n",
      "C:\\Users\\Asus-2020\\Downloads\\Machine Learning Module 2-20210926T095133Z-001.zip\n",
      "C:\\Users\\Asus-2020\\Downloads\\MAMA.JPG\n",
      "C:\\Users\\Asus-2020\\Downloads\\MAMA1.JPG\n",
      "C:\\Users\\Asus-2020\\Downloads\\MAMA2.JPG\n",
      "C:\\Users\\Asus-2020\\Downloads\\MAMA3.JPG\n",
      "C:\\Users\\Asus-2020\\Downloads\\MaskRCNN Implementation.pdf\n",
      "C:\\Users\\Asus-2020\\Downloads\\Mom P.out\n",
      "C:\\Users\\Asus-2020\\Downloads\\MongoDB Atlas and Compass.ipynb\n",
      "C:\\Users\\Asus-2020\\Downloads\\MongoDB.ipynb\n",
      "C:\\Users\\Asus-2020\\Downloads\\moving_and_consolidating_docx_files.ipynb\n",
      "C:\\Users\\Asus-2020\\Downloads\\MTCNN-Face count.ipynb\n",
      "C:\\Users\\Asus-2020\\Downloads\\My Python Scripts.ipynb\n",
      "C:\\Users\\Asus-2020\\Downloads\\MySQL (1).ipynb\n",
      "C:\\Users\\Asus-2020\\Downloads\\MySQL.ipynb\n",
      "C:\\Users\\Asus-2020\\Downloads\\nanoprojectsanddocs-20210705T102717Z-001.zip\n",
      "C:\\Users\\Asus-2020\\Downloads\\NLP-Stanford, Stanza.ipynb\n",
      "C:\\Users\\Asus-2020\\Downloads\\NLP-TextBlob (1).ipynb\n",
      "C:\\Users\\Asus-2020\\Downloads\\NLP-TextBlob.ipynb\n",
      "C:\\Users\\Asus-2020\\Downloads\\OfficeSetup.exe\n",
      "C:\\Users\\Asus-2020\\Downloads\\Online Convocation Fees Payment - Aug26th2021.pdf\n",
      "C:\\Users\\Asus-2020\\Downloads\\Online Convocation Fees Payment Portal(version 1.1).pdf\n",
      "C:\\Users\\Asus-2020\\Downloads\\oops 2.ipynb\n",
      "C:\\Users\\Asus-2020\\Downloads\\Opencv Basics.pdf\n",
      "C:\\Users\\Asus-2020\\Downloads\\OpenCV Python Basics.pdf\n",
      "C:\\Users\\Asus-2020\\Downloads\\Pandas session 1.ipynb\n",
      "C:\\Users\\Asus-2020\\Downloads\\python project -20210725T121937Z-001\n",
      "C:\\Users\\Asus-2020\\Downloads\\python project -20210725T121937Z-001.zip\n",
      "C:\\Users\\Asus-2020\\Downloads\\Pytorch-CNN implementation (1).ipynb\n",
      "C:\\Users\\Asus-2020\\Downloads\\Recap.pptx\n",
      "C:\\Users\\Asus-2020\\Downloads\\remotesensing-12-04090.pdf\n",
      "C:\\Users\\Asus-2020\\Downloads\\review scraper-20210731T094203Z-001.zip\n",
      "C:\\Users\\Asus-2020\\Downloads\\secret.jpg\n",
      "C:\\Users\\Asus-2020\\Downloads\\selfie_star-main\n",
      "C:\\Users\\Asus-2020\\Downloads\\selfie_star-main.zip\n",
      "C:\\Users\\Asus-2020\\Downloads\\SpaCy.ipynb\n",
      "C:\\Users\\Asus-2020\\Downloads\\SQL Interview Questions.pdf\n",
      "C:\\Users\\Asus-2020\\Downloads\\SQL Scripts new.sql\n",
      "C:\\Users\\Asus-2020\\Downloads\\SQL_Scripts.sql\n",
      "C:\\Users\\Asus-2020\\Downloads\\stanza\n",
      "C:\\Users\\Asus-2020\\Downloads\\Subadra_YCB_certificate.pdf\n",
      "C:\\Users\\Asus-2020\\Downloads\\Text Processing in NLP.ipynb\n",
      "C:\\Users\\Asus-2020\\Downloads\\TextBlob.ipynb\n",
      "C:\\Users\\Asus-2020\\Downloads\\TFOD Setup.pdf\n",
      "C:\\Users\\Asus-2020\\Downloads\\TN_TRY-TVR_I_1506_169377.pdf\n",
      "C:\\Users\\Asus-2020\\Downloads\\TN_TRY-TVR_I_1506_169383.pdf\n",
      "C:\\Users\\Asus-2020\\Downloads\\TN_TVR-TRY_I_1606_54767.pdf\n",
      "C:\\Users\\Asus-2020\\Downloads\\today.txt\n",
      "C:\\Users\\Asus-2020\\Downloads\\today12\n",
      "C:\\Users\\Asus-2020\\Downloads\\Untitled.ipynb\n",
      "C:\\Users\\Asus-2020\\Downloads\\Untitled1.ipynb\n",
      "C:\\Users\\Asus-2020\\Downloads\\Untitled2.ipynb\n",
      "C:\\Users\\Asus-2020\\Downloads\\Untitled3.ipynb\n",
      "C:\\Users\\Asus-2020\\Downloads\\vehicle_object_detection\n",
      "C:\\Users\\Asus-2020\\Downloads\\vehicle_object_detection.zip\n",
      "C:\\Users\\Asus-2020\\Downloads\\winequality_red.csv\n",
      "C:\\Users\\Asus-2020\\Downloads\\word embedding (1)\n",
      "C:\\Users\\Asus-2020\\Downloads\\word embedding (1).7z\n",
      "C:\\Users\\Asus-2020\\Downloads\\WordEmbedding-NLP.ipynb\n",
      "C:\\Users\\Asus-2020\\Downloads\\Working with MongoDB.docx\n",
      "C:\\Users\\Asus-2020\\Downloads\\Yolo V3 Implementation in Linux.pdf\n",
      "C:\\Users\\Asus-2020\\Downloads\\__pycache__\n"
     ]
    }
   ],
   "source": [
    "import os\n",
    "import shutil\n",
    "\n",
    "for i in os.listdir():\n",
    "    print(os.path.join(os.getcwd(),i))"
   ]
  },
  {
   "cell_type": "markdown",
   "metadata": {},
   "source": [
    "### 5. Create a list of all of the files in your parent directory (minimum five files should be available)."
   ]
  },
  {
   "cell_type": "code",
   "execution_count": 6,
   "metadata": {},
   "outputs": [
    {
     "name": "stdout",
     "output_type": "stream",
     "text": [
      "['.ipynb_checkpoints', '0-573940861_20210430_010125_0000.pdf', '001 (1).jpg', '001.jpg', '1.My Python Scripts (1).ipynb', '1.Simple Linear Regression.ipynb', '1.Tokenization (1).ipynb', '1.Tokenization-nltk (1).ipynb', '2.Function (1).ipynb', '2.Function.ipynb', '2.Logistic Regression.ipynb', '2.Stemming-nltk (1).ipynb', '3.Admission Prediction - LinearRegression.ipynb', '3.Lemmatization-nltk (1).ipynb', '4.Bag of words - nltk (1).ipynb', '4.Logging .ipynb', '5.Exception Handling (1).ipynb', '5.Exception Handling.ipynb', '5.TF-IDF - nltk (1).ipynb', '6.Class, Object and OOPS.ipynb', '6.Word2Vec - nltk (1).ipynb', '7.Text Processing - Nltk (1).ipynb', 'Admission_Prediction.csv', 'Advertising.csv', 'AlbumArtSmall.jpg', 'AlbumArt_{B5020207-474E-4720-1EBE-7D12D351D300}_Large.jpg', 'AlbumArt_{B5020207-474E-4720-1EBE-7D12D351D300}_Small.jpg', 'AlbumArt_{B5020207-474E-4720-4CCD-2E00C6754900}_Large.jpg', 'AlbumArt_{B5020207-474E-4720-4CCD-2E00C6754900}_Small.jpg', 'AlbumArt_{B5020207-474E-4720-C8E8-FF3E86818300}_Large.jpg', 'AlbumArt_{B5020207-474E-4720-C8E8-FF3E86818300}_Small.jpg', 'Amar ML', 'Amarnath D_ Resume (1).pdf', 'Amarnath D_ Resume (2).pdf', 'Amarnath D_ Resume-converted.docx', 'Amarnath D_ Resume.pdf', 'AMARNATH-D_Old_ Resume.docx', 'APJ.jpg', 'APJ1.jpg', 'Assignment_18.py', 'Assignment_21 .ipynb', 'Assignment_21.ipynb', 'AWS Deployment steps.pdf', 'Azure Deployment steps.pdf', 'B9ECED6F.ASUSPCAssistant_qmba6cd70vzyy!App', 'BrandMeasureNew', 'BrandMeasureProject-20210208T080721Z-001.zip', 'car.jpg', 'casandra homework .7z', 'Convocation Fee.JPG', 'Convocation Payment-Aug26th2021.JPG', 'Copy files', 'Copy files.zip', 'CUB-estmt-Apr2019-434125.html', 'CUB-estmt-Apr2019.pdf', 'CUB-estmt-Aug2019-426308.html', 'CUB-estmt-Aug2019.pdf', 'CUB-estmt-Jul2019-431077 (1).html', 'CUB-estmt-Jul2019-431077.html', 'CUB-estmt-Jul2019.pdf', 'CUB-estmt-Jun2019-429585.html', 'CUB-estmt-Jun2019.pdf', 'CUB-estmt-Mar2019-436644.html', 'CUB-estmt-Mar2019.pdf', 'CUB-estmt-Mar2021-400807.html', 'CUB-estmt-May2019-431496 (1).html', 'CUB-estmt-May2019-431496.html', 'CUB-estmt-May2019.pdf', 'CUB_Cheque.jpg', 'data', 'dataAugmentation', 'dataAugmentation.zip', 'Decision tree partial (1).ipynb', 'Decision tree partial.ipynb', 'desktop.ini', 'DL1', 'DL1.7z', 'DL_Tensor_Flow', 'DL_Tensor_Flow.7z', 'DSC_3025.JPG', 'DSC_3027.JPG', 'DSC_3028.JPG', 'DSC_3035.JPG', 'DSC_3036.JPG', 'DSC_3037.JPG', 'DSC_3043 (1).JPG', 'DSC_3043.JPG', 'DSC_3045.JPG', 'dt_en_meta.dot', 'EasyOCR.ipynb', 'EasyOCR_Extract_the_Number_Plate.ipynb', 'Eg.csv', 'en_core_web_sm-2.2.0.tar.gz', 'Epic Pen Setup v3.9.117.0 (1).exe', 'Epic Pen Setup v3.9.117.0.exe', 'FaceRecogAcademyV2.zip', 'FileAutomation', 'FileAutomation.zip', 'flask_demo', 'flask_demo.7z', 'FlipkratScrappingProject (1).zip', 'Folder.jpg', 'forest_cover_Classification.zip', 'glass.data', 'Google Cloud Platform deployment steps.pdf', 'GrammarlySetup.exe', 'Hall ticket.pdf', 'hello_world.7z', 'Heroku Deployment steps.pdf', 'HuionTablet_WinDriver_v15.3.19.174', 'HuionTablet_WinDriver_v15.3.19.174.zip', 'ineuron_mxnet.zip', 'Installing CUDA Toolkit and cuDNN for Deep Learning.docx', 'Installing CUDA Toolkit and cuDNN for Deep Learning.pdf', 'InsuranceFraudDetection-master', 'InsuranceFraudDetection-master.zip', 'Introduction to MySQL (4).docx', 'Learn Complete MySQL Tutorial  In Tamil - 2021 _ MySQL Database in Tamil _ Part-1_ தமிழ்.mp4', 'Learn Complete MySQL Tutorial  In Tamil - 2021 _ MySQL Database in Tamil _ Part-2_ தமிழ்.mp4', 'Logistics regression implementation.ipynb', 'Machine Learning Module 2', 'Machine Learning Module 2-20210926T095133Z-001.zip', 'MAMA.JPG', 'MAMA1.JPG', 'MAMA2.JPG', 'MAMA3.JPG', 'MaskRCNN Implementation.pdf', 'Mom P.out', 'MongoDB Atlas and Compass.ipynb', 'MongoDB.ipynb', 'moving_and_consolidating_docx_files.ipynb', 'MTCNN-Face count.ipynb', 'My Python Scripts.ipynb', 'MySQL (1).ipynb', 'MySQL.ipynb', 'nanoprojectsanddocs-20210705T102717Z-001.zip', 'NLP-Stanford, Stanza.ipynb', 'NLP-TextBlob (1).ipynb', 'NLP-TextBlob.ipynb', 'OfficeSetup.exe', 'Online Convocation Fees Payment - Aug26th2021.pdf', 'Online Convocation Fees Payment Portal(version 1.1).pdf', 'oops 2.ipynb', 'Opencv Basics.pdf', 'OpenCV Python Basics.pdf', 'Pandas session 1.ipynb', 'python project -20210725T121937Z-001', 'python project -20210725T121937Z-001.zip', 'Pytorch-CNN implementation (1).ipynb', 'Recap.pptx', 'remotesensing-12-04090.pdf', 'review scraper-20210731T094203Z-001.zip', 'secret.jpg', 'selfie_star-main', 'selfie_star-main.zip', 'SpaCy.ipynb', 'SQL Interview Questions.pdf', 'SQL Scripts new.sql', 'SQL_Scripts.sql', 'stanza', 'Subadra_YCB_certificate.pdf', 'Text Processing in NLP.ipynb', 'TextBlob.ipynb', 'TFOD Setup.pdf', 'TN_TRY-TVR_I_1506_169377.pdf', 'TN_TRY-TVR_I_1506_169383.pdf', 'TN_TVR-TRY_I_1606_54767.pdf', 'today.txt', 'today12', 'Untitled.ipynb', 'Untitled1.ipynb', 'Untitled2.ipynb', 'Untitled3.ipynb', 'vehicle_object_detection', 'vehicle_object_detection.zip', 'winequality_red.csv', 'word embedding (1)', 'word embedding (1).7z', 'WordEmbedding-NLP.ipynb', 'Working with MongoDB.docx', 'Yolo V3 Implementation in Linux.pdf', '__pycache__']\n"
     ]
    }
   ],
   "source": [
    "import os\n",
    "import shutil\n",
    "\n",
    "file_list=[]\n",
    "\n",
    "for files in os.listdir():\n",
    "    file_list.append(files)\n",
    "print(file_list)"
   ]
  },
  {
   "cell_type": "markdown",
   "metadata": {},
   "source": [
    "### 7. Create a date object of your day of birth."
   ]
  },
  {
   "cell_type": "code",
   "execution_count": 7,
   "metadata": {},
   "outputs": [
    {
     "name": "stdout",
     "output_type": "stream",
     "text": [
      "My DOB is: 1992-09-20\n"
     ]
    }
   ],
   "source": [
    "from datetime import timedelta, date, datetime\n",
    "\n",
    "mydob = date(1992,9,20)\n",
    "print(\"My DOB is: {}\".format(mydob))"
   ]
  },
  {
   "cell_type": "markdown",
   "metadata": {},
   "source": [
    "### 8. What day of the week was your day of birth?"
   ]
  },
  {
   "cell_type": "code",
   "execution_count": 9,
   "metadata": {},
   "outputs": [
    {
     "name": "stdout",
     "output_type": "stream",
     "text": [
      "The week day i was born:Sunday\n"
     ]
    }
   ],
   "source": [
    "wk_dob = mydob.strftime('%A')\n",
    "print(\"The week day i was born:{}\".format(wk_dob))"
   ]
  },
  {
   "cell_type": "markdown",
   "metadata": {},
   "source": [
    "### 9. When will you be (or when were you) 10,000 days old?"
   ]
  },
  {
   "cell_type": "code",
   "execution_count": 10,
   "metadata": {},
   "outputs": [
    {
     "name": "stdout",
     "output_type": "stream",
     "text": [
      "10000 days from dob:2020-02-06\n"
     ]
    }
   ],
   "source": [
    "new = mydob+timedelta(days=10000)\n",
    "print(\"10000 days from dob:{}\".format(new))"
   ]
  },
  {
   "cell_type": "code",
   "execution_count": null,
   "metadata": {},
   "outputs": [],
   "source": []
  }
 ],
 "metadata": {
  "kernelspec": {
   "display_name": "Python 3",
   "language": "python",
   "name": "python3"
  },
  "language_info": {
   "codemirror_mode": {
    "name": "ipython",
    "version": 3
   },
   "file_extension": ".py",
   "mimetype": "text/x-python",
   "name": "python",
   "nbconvert_exporter": "python",
   "pygments_lexer": "ipython3",
   "version": "3.7.4"
  }
 },
 "nbformat": 4,
 "nbformat_minor": 2
}
