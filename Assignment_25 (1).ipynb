{
 "cells": [
  {
   "cell_type": "markdown",
   "metadata": {},
   "source": [
    "### 1) What is the difference between enclosing a list comprehension in square brackets and parentheses?"
   ]
  },
  {
   "cell_type": "code",
   "execution_count": 1,
   "metadata": {},
   "outputs": [
    {
     "name": "stdout",
     "output_type": "stream",
     "text": [
      "List comprehension:[0, 1, 2, 3, 4, 5, 6, 7, 8, 9]\n",
      "Generator exp :<generator object <genexpr> at 0x000001488BEE5E48>\n",
      "[0, 1, 2, 3, 4, 5, 6, 7, 8, 9]\n"
     ]
    }
   ],
   "source": [
    "#Answer\n",
    "# List comprehension is easier way of creating a container(list or dictionary or set) by iterating over elements and assigning them to a container.\n",
    "\n",
    "l = [i for i in range(0,10)]\n",
    "print(\"List comprehension:{}\".format(l))\n",
    "\n",
    "#if it is enclosed within parenthesis it is a generator expression which creates the values on the fly witout waiting for the entire \n",
    "#output to be created.\n",
    "\n",
    "lst = (i for i in range(0,10))\n",
    "print('Generator exp :{}'.format(lst))\n",
    "print(list(lst))"
   ]
  },
  {
   "cell_type": "markdown",
   "metadata": {},
   "source": [
    "### 2) What is the relationship between generators and iterators?"
   ]
  },
  {
   "cell_type": "code",
   "execution_count": 2,
   "metadata": {},
   "outputs": [],
   "source": [
    "#Answer\n",
    "# Iterators is an object which iterate over an iterable obeject. They are implemented in for loops, comprehensions etc.\n",
    "# Genrators are used create iterators . They use yield function instead of a return whenever a vale has to returned from a function."
   ]
  },
  {
   "cell_type": "markdown",
   "metadata": {},
   "source": [
    "### 3) What are the signs that a function is a generator function?"
   ]
  },
  {
   "cell_type": "code",
   "execution_count": 3,
   "metadata": {},
   "outputs": [],
   "source": [
    "#Answer\n",
    "#(1) The output is a generator object.\n",
    "#(2) They use yield keyword instead of print"
   ]
  },
  {
   "cell_type": "markdown",
   "metadata": {},
   "source": [
    "### 4) What is the purpose of a yield statement?"
   ]
  },
  {
   "cell_type": "code",
   "execution_count": 4,
   "metadata": {},
   "outputs": [],
   "source": [
    "#Answer\n",
    "#Yield statement is used to return the value immediately instead of a print() which waits for entire date to created before \n",
    "#printing. Hence, Yield consumes less memory than print function"
   ]
  },
  {
   "cell_type": "markdown",
   "metadata": {},
   "source": [
    "### 5) What is the relationship between map calls and list comprehensions? Make a comparison and contrast between the two."
   ]
  },
  {
   "cell_type": "code",
   "execution_count": 5,
   "metadata": {},
   "outputs": [],
   "source": [
    "#Answer\n",
    "#map() function is used to take a sequence and perform an operation on the all the data items and return the new sequence. \n",
    "#The memory consumption while using map() function is less and efficient than List compression, as the values are returned on demand\n",
    "# and only one value is available in memory at any point of time using map()\n",
    "#map() returns a map object which is a iterator object which returns the iterator on demand. \n",
    "# The output of map() has to be explicitly converted to approprite container type.\n",
    "#map() function has to passed two arguments the function which performs the operation and iterable. \n",
    "\n",
    "# List comprehension is used to create a list of elements and using a for loop , if statements etc. \n",
    "# Though List comprehension is compact way of coding, the for loop and if statements etc used in List comprehension uses more system\n",
    "# memory and entire output lists are  stored in system memory before it is returned or printed. It returns a List object.\n",
    "#List coprehension is more readable and returns list object. There is no need for converting the output to appropriate container type\n",
    "# as in case of map() output."
   ]
  },
  {
   "cell_type": "code",
   "execution_count": null,
   "metadata": {},
   "outputs": [],
   "source": []
  }
 ],
 "metadata": {
  "kernelspec": {
   "display_name": "Python 3",
   "language": "python",
   "name": "python3"
  },
  "language_info": {
   "codemirror_mode": {
    "name": "ipython",
    "version": 3
   },
   "file_extension": ".py",
   "mimetype": "text/x-python",
   "name": "python",
   "nbconvert_exporter": "python",
   "pygments_lexer": "ipython3",
   "version": "3.7.4"
  }
 },
 "nbformat": 4,
 "nbformat_minor": 2
}
