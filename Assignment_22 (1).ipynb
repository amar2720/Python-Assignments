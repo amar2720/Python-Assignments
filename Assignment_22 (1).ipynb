{
 "cells": [
  {
   "cell_type": "markdown",
   "metadata": {},
   "source": [
    "### 1. What is the result of the code, and explain?"
   ]
  },
  {
   "cell_type": "code",
   "execution_count": 5,
   "metadata": {},
   "outputs": [
    {
     "name": "stdout",
     "output_type": "stream",
     "text": [
      "INeuron\n"
     ]
    }
   ],
   "source": [
    "X ='INeuron'\n",
    "\n",
    "def func():\n",
    "    print(X)\n",
    "func()\n",
    "\n",
    "#Answer\n",
    "#Here we declared X variable as a global variable so it is available for inside the function that we have and hence it gives the output as INeuron"
   ]
  },
  {
   "cell_type": "markdown",
   "metadata": {},
   "source": [
    "### 2. What is the result of the code, and explain?"
   ]
  },
  {
   "cell_type": "code",
   "execution_count": 6,
   "metadata": {},
   "outputs": [
    {
     "name": "stdout",
     "output_type": "stream",
     "text": [
      "INeuron\n"
     ]
    }
   ],
   "source": [
    "X = \"INeuron\"\n",
    "\n",
    "def func():\n",
    "    X = \"NI!\"\n",
    "    \n",
    "func()\n",
    "print(X)\n",
    "\n",
    "#Answer\n",
    "#We have the variable X and it is declared as a global variable\n",
    "#We have another variable X inside the function and it is a local variable\n",
    "#When we print the values it tries to fetch the global variable value."
   ]
  },
  {
   "cell_type": "markdown",
   "metadata": {},
   "source": [
    "### 3. What does this code print, and why?\n"
   ]
  },
  {
   "cell_type": "code",
   "execution_count": 7,
   "metadata": {},
   "outputs": [
    {
     "name": "stdout",
     "output_type": "stream",
     "text": [
      "NI!\n",
      "INeuron\n"
     ]
    }
   ],
   "source": [
    "X = \"INeuron\"\n",
    "\n",
    "def func():\n",
    "    X = \"NI!\"\n",
    "    print(X)\n",
    "    \n",
    "func()\n",
    "print(X)\n",
    "\n",
    "#Answer\n",
    "#The varaible X inside the function is local variable and it has the value \"NI!\". So it is printed when we called the func\n",
    "#We have an another variable and declared as global variable and it tries to print the value outside the func."
   ]
  },
  {
   "cell_type": "markdown",
   "metadata": {},
   "source": [
    "### 4. What output does this code produce? Why?"
   ]
  },
  {
   "cell_type": "code",
   "execution_count": 8,
   "metadata": {},
   "outputs": [
    {
     "name": "stdout",
     "output_type": "stream",
     "text": [
      "NI\n"
     ]
    }
   ],
   "source": [
    "X = 'INeuron'\n",
    "\n",
    "def func():\n",
    "    global X\n",
    "    X=\"NI\"\n",
    "    \n",
    "func()\n",
    "print(X)\n",
    "#Answer\n",
    "# Eventhough, initially 'X' variable is having a default global scope, \n",
    "# the variable 'X' within the func() is explicitly given a global scope, by using the key word 'global'. It makes the 'X' variable\n",
    "# inside the func() global and it is the value of 'X' inside the func() that is made available across the program after \n",
    "# the func() call is made. Hence, the value 'NI' is printed when the print('X') is called outside the func() too."
   ]
  },
  {
   "cell_type": "markdown",
   "metadata": {},
   "source": [
    "### 5. What about this code—what’s the output, and why?"
   ]
  },
  {
   "cell_type": "code",
   "execution_count": 9,
   "metadata": {},
   "outputs": [
    {
     "name": "stdout",
     "output_type": "stream",
     "text": [
      "INeuron\n"
     ]
    },
    {
     "data": {
      "text/plain": [
       "'INeuron'"
      ]
     },
     "execution_count": 9,
     "metadata": {},
     "output_type": "execute_result"
    }
   ],
   "source": [
    "X = 'INeuron'\n",
    "\n",
    "def func():\n",
    "    X=\"NI\"\n",
    "def nested():\n",
    "    print(X)\n",
    "    \n",
    "nested()\n",
    "func()\n",
    "X\n",
    "#Answer\n",
    "# As the variable X='iNeuron' has global scope and it is available through out the code block.\n",
    "# The another variable X='NI' inside the func() has local scope . Hence it is not available outside func()\n",
    "# Hence, X='iNeuron' is available inside nested() function and value 'iNeuron' is printed when print(X) \n",
    "# is called inside nested() function."
   ]
  },
  {
   "cell_type": "markdown",
   "metadata": {},
   "source": [
    "### 6. How about this code: what is its output in Python 3, and explain?"
   ]
  },
  {
   "cell_type": "code",
   "execution_count": 12,
   "metadata": {},
   "outputs": [
    {
     "name": "stdout",
     "output_type": "stream",
     "text": [
      "Spam\n"
     ]
    }
   ],
   "source": [
    "def func():\n",
    "    X=\"NI\"\n",
    "    def nested():\n",
    "        nonlocal X\n",
    "        X = 'Spam'\n",
    "    \n",
    "    nested()\n",
    "    print(X)\n",
    "func()\n",
    "\n",
    "#Answer\n",
    "# Nonlocal variables are used in nested functions whose local scope is not defined. \n",
    "# The variable 'X' inside the function nested() is explicitly defined as nonlocal, which refers to the previous \n",
    "# Same variable which has nearest enclosing scope which is inside the func(). nested() function is within scope of func() function.\n",
    "# Therefore If we change the value of a nonlocal variable, the changes appear in the local variable.\n",
    "# Hence when X= 'Spam' is done inside nested() after making X as non local, the local variable X within func(), retains the value 'Spam'."
   ]
  },
  {
   "cell_type": "code",
   "execution_count": null,
   "metadata": {},
   "outputs": [],
   "source": []
  }
 ],
 "metadata": {
  "kernelspec": {
   "display_name": "Python 3",
   "language": "python",
   "name": "python3"
  },
  "language_info": {
   "codemirror_mode": {
    "name": "ipython",
    "version": 3
   },
   "file_extension": ".py",
   "mimetype": "text/x-python",
   "name": "python",
   "nbconvert_exporter": "python",
   "pygments_lexer": "ipython3",
   "version": "3.7.4"
  }
 },
 "nbformat": 4,
 "nbformat_minor": 2
}
