{
 "cells": [
  {
   "cell_type": "markdown",
   "metadata": {},
   "source": [
    "### 1.Create a zoo.py file first. Define the hours() function, which prints the string 'Open 9-5 daily'. Then, use the interactive interpreter to import the zoo module and call its hours() function."
   ]
  },
  {
   "cell_type": "code",
   "execution_count": 4,
   "metadata": {},
   "outputs": [
    {
     "name": "stdout",
     "output_type": "stream",
     "text": [
      "Open 9-5 daily\n"
     ]
    }
   ],
   "source": [
    "def hours():\n",
    "    print('Open 9-5 daily')\n",
    "hours()"
   ]
  },
  {
   "cell_type": "code",
   "execution_count": null,
   "metadata": {},
   "outputs": [],
   "source": [
    "# Interactive console output\n",
    "\"\"\"\n",
    ">>> import Assignment_18\n",
    "Open 9-5 daily\n",
    "\n",
    "\"\"\"\n"
   ]
  },
  {
   "cell_type": "markdown",
   "metadata": {},
   "source": [
    "### 2.In the interactive interpreter, import the zoo module as menagerie and call its hours() function."
   ]
  },
  {
   "cell_type": "code",
   "execution_count": 9,
   "metadata": {},
   "outputs": [
    {
     "data": {
      "text/plain": [
       "'\\n>>> import Assignment_18 as menagerie\\n>>> menagerie.hours()\\nOpen 9-5 daily\\n'"
      ]
     },
     "execution_count": 9,
     "metadata": {},
     "output_type": "execute_result"
    }
   ],
   "source": [
    "# Interactive console output\n",
    "\"\"\"\n",
    ">>> import Assignment_18 as menagerie\n",
    ">>> menagerie.hours()\n",
    "Open 9-5 daily\n",
    "\"\"\""
   ]
  },
  {
   "cell_type": "markdown",
   "metadata": {},
   "source": [
    "### 3. Using the interpreter, explicitly import and call the hours() function from zoo."
   ]
  },
  {
   "cell_type": "code",
   "execution_count": 10,
   "metadata": {},
   "outputs": [
    {
     "data": {
      "text/plain": [
       "'\\n>>> from Assignment_18 import hours\\n>>> hours()\\nOpen 9-5 daily\\n'"
      ]
     },
     "execution_count": 10,
     "metadata": {},
     "output_type": "execute_result"
    }
   ],
   "source": [
    "# Interactive console outout\n",
    "\n",
    "\"\"\"\n",
    ">>> from Assignment_18 import hours\n",
    ">>> hours()\n",
    "Open 9-5 daily\n",
    "\"\"\""
   ]
  },
  {
   "cell_type": "markdown",
   "metadata": {},
   "source": [
    "### 4. Import the hours() function as info and call it."
   ]
  },
  {
   "cell_type": "code",
   "execution_count": 11,
   "metadata": {},
   "outputs": [
    {
     "data": {
      "text/plain": [
       "'\\n>>> from Assignment_18 import hours as info\\n>>> info()\\nOpen 9-5 daily\\n'"
      ]
     },
     "execution_count": 11,
     "metadata": {},
     "output_type": "execute_result"
    }
   ],
   "source": [
    "# Interactive console output\n",
    "\"\"\"\n",
    ">>> from Assignment_18 import hours as info\n",
    ">>> info()\n",
    "Open 9-5 daily\n",
    "\"\"\""
   ]
  },
  {
   "cell_type": "markdown",
   "metadata": {},
   "source": [
    "### 5.Create a plain dictionary with the key-value pairs 'a': 1, 'b': 2, and 'c': 3, and print it out."
   ]
  },
  {
   "cell_type": "code",
   "execution_count": 13,
   "metadata": {},
   "outputs": [
    {
     "data": {
      "text/plain": [
       "\"\\n>>> plain = {'a':1,'b':2,'c':3}\\n>>> plain\\n{'a': 1, 'b': 2, 'c': 3}\\n\""
      ]
     },
     "execution_count": 13,
     "metadata": {},
     "output_type": "execute_result"
    }
   ],
   "source": [
    "# Interactive console output\n",
    "\"\"\"\n",
    ">>> plain = {'a':1,'b':2,'c':3}\n",
    ">>> plain\n",
    "{'a': 1, 'b': 2, 'c': 3}\n",
    "\"\"\""
   ]
  },
  {
   "cell_type": "markdown",
   "metadata": {},
   "source": [
    "### 6.Make an OrderedDict called fancy from the same pairs listed in 5 and print it. Did it print in the same order as plain?"
   ]
  },
  {
   "cell_type": "code",
   "execution_count": 14,
   "metadata": {},
   "outputs": [
    {
     "data": {
      "text/plain": [
       "\"\\n>>> from collections import OrderedDict\\n>>> fancy = OrderedDict([('a',1),('b',2),('c',2)])\\n>>> fancy\\nOrderedDict([('a', 1), ('b', 2), ('c', 2)])\\n\""
      ]
     },
     "execution_count": 14,
     "metadata": {},
     "output_type": "execute_result"
    }
   ],
   "source": [
    "# Interactive console output\n",
    "\"\"\"\n",
    ">>> from collections import OrderedDict\n",
    ">>> fancy = OrderedDict([('a',1),('b',2),('c',2)])\n",
    ">>> fancy\n",
    "OrderedDict([('a', 1), ('b', 2), ('c', 2)])\n",
    "\"\"\""
   ]
  },
  {
   "cell_type": "markdown",
   "metadata": {},
   "source": [
    "### 7. Make a default dictionary called dict_of_lists and pass it the argument list. Make the list dict_of_lists['a'] and append the value 'something for a' to it in one assignment. Print dict_of_lists['a']."
   ]
  },
  {
   "cell_type": "code",
   "execution_count": 15,
   "metadata": {},
   "outputs": [
    {
     "data": {
      "text/plain": [
       "\"\\n>>> from collections import defaultdict\\n>>> dict_of_lists = defaultdict(list)\\n>>> dict_of_lists['a'].append('something for a')\\n>>> dict_of_lists['a']\\n['something for a']\\n\""
      ]
     },
     "execution_count": 15,
     "metadata": {},
     "output_type": "execute_result"
    }
   ],
   "source": [
    "# Interactive console output\n",
    "\"\"\"\n",
    ">>> from collections import defaultdict\n",
    ">>> dict_of_lists = defaultdict(list)\n",
    ">>> dict_of_lists['a'].append('something for a')\n",
    ">>> dict_of_lists['a']\n",
    "['something for a']\n",
    "\"\"\""
   ]
  },
  {
   "cell_type": "code",
   "execution_count": null,
   "metadata": {},
   "outputs": [],
   "source": []
  }
 ],
 "metadata": {
  "kernelspec": {
   "display_name": "Python 3",
   "language": "python",
   "name": "python3"
  },
  "language_info": {
   "codemirror_mode": {
    "name": "ipython",
    "version": 3
   },
   "file_extension": ".py",
   "mimetype": "text/x-python",
   "name": "python",
   "nbconvert_exporter": "python",
   "pygments_lexer": "ipython3",
   "version": "3.7.4"
  }
 },
 "nbformat": 4,
 "nbformat_minor": 2
}
